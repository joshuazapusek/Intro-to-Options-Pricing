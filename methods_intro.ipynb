{
 "metadata": {
  "language_info": {
   "codemirror_mode": {
    "name": "ipython",
    "version": 3
   },
   "file_extension": ".py",
   "mimetype": "text/x-python",
   "name": "python",
   "nbconvert_exporter": "python",
   "pygments_lexer": "ipython3",
   "version": "3.8.3"
  },
  "orig_nbformat": 2,
  "kernelspec": {
   "name": "python383jvsc74a57bd031034b40dc3571fa7b5fd5ededc1b39b8559ab61427447a9b282bd591cf2e7b2",
   "display_name": "Python 3.8.3 64-bit ('base': conda)"
  }
 },
 "nbformat": 4,
 "nbformat_minor": 2,
 "cells": [
  {
   "source": [
    "# An Introduction to Options Pricing: Monte Carlo, Lattice and the Black-Scholes-Merton"
   ],
   "cell_type": "markdown",
   "metadata": {}
  },
  {
   "cell_type": "code",
   "execution_count": 1,
   "metadata": {},
   "outputs": [],
   "source": [
    "import numpy as np \n",
    "import matplotlib.pyplot as plt \n",
    "import math \n",
    "from scipy import stats \n",
    "from scipy.stats import norm"
   ]
  },
  {
   "cell_type": "code",
   "execution_count": 2,
   "metadata": {},
   "outputs": [],
   "source": [
    "# Data\n",
    "k = 10\n",
    "r = 0.02\n",
    "sig = 0.25\n",
    "T = 0.25\n",
    "t = 0.025\n",
    "periods = int(T / t)\n",
    "v = 0.0625\n",
    "w = 0.0625\n",
    "O = 3\n",
    "xi = 0.1\n",
    "s = 10\n",
    "N = [10, 100, 1000, 10000]\n",
    "calls = []\n",
    "calls1 = []\n",
    "E = []"
   ]
  },
  {
   "cell_type": "code",
   "execution_count": null,
   "metadata": {},
   "outputs": [],
   "source": []
  },
  {
   "source": [
    "## Part I: Monte Carlo Simulations"
   ],
   "cell_type": "markdown",
   "metadata": {}
  },
  {
   "cell_type": "code",
   "execution_count": null,
   "metadata": {},
   "outputs": [],
   "source": []
  },
  {
   "source": [
    "## Part II: Lattice Methods"
   ],
   "cell_type": "markdown",
   "metadata": {}
  },
  {
   "cell_type": "code",
   "execution_count": null,
   "metadata": {},
   "outputs": [],
   "source": []
  },
  {
   "source": [
    "## Part III: Black-Scholes-Merton"
   ],
   "cell_type": "markdown",
   "metadata": {}
  },
  {
   "cell_type": "code",
   "execution_count": 3,
   "metadata": {},
   "outputs": [],
   "source": [
    "# Black-Scholes-Merton\n",
    "def black_scholes():\n",
    "    D1 = d1()\n",
    "    D2 = d2(D1)\n",
    "    call = s * norm.cdf(D1) - k * math.exp(-1 * r * T) * norm.cdf(D2)\n",
    "    return call"
   ]
  },
  {
   "cell_type": "code",
   "execution_count": 4,
   "metadata": {},
   "outputs": [],
   "source": [
    "# Black-Scholes Helper - d1\n",
    "def d1():\n",
    "    return (math.log(s / k) + (r + ((sig**2) / 2)) * T) / (sig * math.sqrt(T))"
   ]
  },
  {
   "cell_type": "code",
   "execution_count": 5,
   "metadata": {},
   "outputs": [],
   "source": [
    "# Black-Scholes Helper - d2\n",
    "def d2(d1):\n",
    "    return d1 - sig * math.sqrt(T)"
   ]
  },
  {
   "source": [
    "## Part IV: Comparisons "
   ],
   "cell_type": "markdown",
   "metadata": {}
  },
  {
   "cell_type": "code",
   "execution_count": null,
   "metadata": {},
   "outputs": [],
   "source": []
  }
 ]
}